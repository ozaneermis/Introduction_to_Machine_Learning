{
 "cells": [
  {
   "cell_type": "code",
   "execution_count": 1,
   "metadata": {},
   "outputs": [],
   "source": [
    "import numpy as np\n",
    "import pandas as pd\n",
    "from sklearn.datasets import load_iris"
   ]
  },
  {
   "cell_type": "code",
   "execution_count": 3,
   "metadata": {},
   "outputs": [],
   "source": [
    "iris = load_iris()\n",
    "data = iris.data\n",
    "feature_names= iris.feature_names\n",
    "y = iris.target\n",
    "df = pd.DataFrame(data,columns=feature_names)\n",
    "df['sinif']= y\n",
    "x= data"
   ]
  },
  {
   "cell_type": "code",
   "execution_count": null,
   "metadata": {},
   "outputs": [],
   "source": [
    "from sklearn.decomposition import PCA\n",
    "pca = PCA(n_components= 2, whiten=True)\n",
    "pca.fit(x)\n",
    "x_pca = pca.transform(x)\n",
    "\n",
    "print('Variance Ratio: ', pca.explained_variance_ratio_)\n",
    "print('Sum: ', sum(pca.explained_variance_ratio_))"
   ]
  },
  {
   "cell_type": "code",
   "execution_count": null,
   "metadata": {},
   "outputs": [],
   "source": [
    "df['p1'] =  x_pca[:,0]\n",
    "df['p2'] = x_pca[:,1]\n",
    "\n",
    "color = ['red','blue','green']\n",
    "\n",
    "import matplotlib.pyplot as plt\n",
    "for each in range(3):\n",
    "    plt.scatter(df.p1[df.sinif==each],df.p2[df.sinif==each],color=color[each],label=iris.target_names[each])\n",
    "\n",
    "plt.legend()\n",
    "plt.xlabel('p1')\n",
    "plt.ylabel('p2')\n",
    "plt.show()"
   ]
  }
 ],
 "metadata": {
  "kernelspec": {
   "display_name": "torch",
   "language": "python",
   "name": "python3"
  },
  "language_info": {
   "codemirror_mode": {
    "name": "ipython",
    "version": 3
   },
   "file_extension": ".py",
   "mimetype": "text/x-python",
   "name": "python",
   "nbconvert_exporter": "python",
   "pygments_lexer": "ipython3",
   "version": "3.9.16"
  },
  "orig_nbformat": 4
 },
 "nbformat": 4,
 "nbformat_minor": 2
}
