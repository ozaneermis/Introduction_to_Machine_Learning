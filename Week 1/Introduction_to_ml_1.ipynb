{
 "cells": [
  {
   "cell_type": "code",
   "execution_count": 1,
   "metadata": {},
   "outputs": [],
   "source": [
    "int1= 10\n",
    "int2= 5\n",
    "\n",
    "day='monday'\n",
    "\n",
    "float1= 10.0"
   ]
  },
  {
   "cell_type": "code",
   "execution_count": 17,
   "metadata": {},
   "outputs": [
    {
     "name": "stdout",
     "output_type": "stream",
     "text": [
      "7\n",
      "9\n",
      "[1, 3]\n"
     ]
    }
   ],
   "source": [
    "int1=10\n",
    "int2=20\n",
    "int3=30\n",
    "\n",
    "list_int=[1,3,5,7,9,11]\n",
    "type(list_int)\n",
    "\n",
    "list_str=['monday','tuesday', 'wednesday']\n",
    "type(list_int)\n",
    "\n",
    "value = list_int[3] # print 7\n",
    "print(value)\n",
    "\n",
    "value1 = list_int[-2] # Reacing the second element from the end of the list\n",
    "print(value1)\n",
    "\n",
    "list_divide = list_int[0:2] # Print the first 2 elements in the list\n",
    "print(list_divide)\n",
    "\n",
    "dir(list_int) # Print Built-in_functions that can be used with lists\n",
    "\n",
    "list_int.append(13) # Adds 13 to the end of the list\n",
    "\n",
    "list_int.remove(13) # Removes 13 from the list\n",
    "\n",
    "list_int.reverse() # Reverses the list\n",
    "\n",
    "list_new = [68,4,3,58,47,2,6]\n",
    "list_new.sort() # Sorts the list\n",
    "\n",
    "string_int_list = ['ozan', 'ermis' , 24 , 1 , 1] # A list can get a value together with string and int\n"
   ]
  },
  {
   "cell_type": "code",
   "execution_count": 27,
   "metadata": {},
   "outputs": [
    {
     "name": "stdout",
     "output_type": "stream",
     "text": [
      "1\n",
      "2\n",
      "3\n",
      "i\n",
      "s\n",
      "t\n",
      "a\n",
      "n\n",
      "b\n",
      "u\n",
      "l\n",
      " \n",
      "i\n",
      "z\n",
      "m\n",
      "i\n",
      "r\n",
      "Min value is -> 2\n"
     ]
    }
   ],
   "source": [
    "for item in range(1,4): #1 -> inclusive, 4 -> exclusive\n",
    "    print(item)\n",
    "\n",
    "for item in 'istanbul izmir':\n",
    "    print(item)\n",
    "\n",
    "''' \n",
    "i\n",
    "s\n",
    "t\n",
    "a\n",
    "n\n",
    "b\n",
    "u\n",
    "l\n",
    " \n",
    "i\n",
    "z\n",
    "m\n",
    "i\n",
    "r\n",
    "'''\n",
    "\n",
    "arr= [2,6,78,45,90,8,4,7,5]\n",
    "sum(arr) # Sums all elements in the list with each other\n",
    "\n",
    "min(arr) # Finds the minumum element in the list \n",
    "max(arr) # Finds the maximum element in the list\n",
    "\n",
    "minimum=100000\n",
    "\n",
    "for item in arr:\n",
    "    if item < minimum:\n",
    "        minimum= item\n",
    "    else:\n",
    "        continue\n",
    "\n",
    "print('Min value is ->', minimum)        "
   ]
  },
  {
   "cell_type": "code",
   "execution_count": 30,
   "metadata": {},
   "outputs": [
    {
     "name": "stdout",
     "output_type": "stream",
     "text": [
      "int1 is smaller than int2\n",
      "The list includes this value -> 18 .\n"
     ]
    }
   ],
   "source": [
    "if int1 > int2 :\n",
    "    print('int1 is bigger than int2')\n",
    "elif int1 == int2 :\n",
    "    print('int1 equals to int2')\n",
    "else:\n",
    "    print('int1 is smaller than int2')\n",
    "\n",
    "liste =[65,18,36,49]\n",
    "\n",
    "value = 18\n",
    "\n",
    "if value in liste:\n",
    "    \n",
    "    print(\"The list includes this value -> {} .\".format(value))\n",
    "    \n",
    "else:\n",
    "    print(\"The list doens't include this value -> {} .\".format(value))\n"
   ]
  },
  {
   "cell_type": "code",
   "execution_count": 33,
   "metadata": {},
   "outputs": [
    {
     "name": "stdout",
     "output_type": "stream",
     "text": [
      "7\n",
      "6\n",
      "5\n",
      "4\n"
     ]
    }
   ],
   "source": [
    "#while loop\n",
    "\n",
    "i=7\n",
    "\n",
    "while i>3:\n",
    "    print(i)\n",
    "    i -= 1"
   ]
  },
  {
   "cell_type": "code",
   "execution_count": 38,
   "metadata": {},
   "outputs": [
    {
     "name": "stdout",
     "output_type": "stream",
     "text": [
      "This is a rectangle and the perimeter of the rectangle -> 50 \n"
     ]
    }
   ],
   "source": [
    "def square_or_rectangle(b,a=10,):\n",
    "    # We are gettin a value from user and deciding if it is square or rectangle\n",
    "    if b == 10:\n",
    "        print('This is a square and the perimeter of the square -> {} '.format(4*a))\n",
    "    else:\n",
    "        print('This is a rectangle and the perimeter of the rectangle -> {} '.format(2*(a+b)))"
   ]
  },
  {
   "cell_type": "code",
   "execution_count": 39,
   "metadata": {},
   "outputs": [
    {
     "name": "stdout",
     "output_type": "stream",
     "text": [
      "36\n",
      "19.0\n"
     ]
    }
   ],
   "source": [
    "def poww(x):\n",
    "\n",
    "    return x*x\n",
    "\n",
    "result = poww(6)\n",
    "\n",
    "result_2 = lambda x: x*x\n",
    "\n",
    "print(result_2(6))\n",
    "\n",
    "a = 95\n",
    "div= lambda x: x/5\n",
    "\n",
    "print(div(a))\n"
   ]
  },
  {
   "cell_type": "code",
   "execution_count": 43,
   "metadata": {},
   "outputs": [
    {
     "data": {
      "text/plain": [
       "6"
      ]
     },
     "execution_count": 43,
     "metadata": {},
     "output_type": "execute_result"
    }
   ],
   "source": [
    "book_num = {\"Stephen King\":45, \"Cal Newport\":6, \"Robert Kiyosaki\":3}\n",
    "# Authors and how many book they wrote\n",
    "\n",
    "type(book_num)\n",
    "\n",
    "book_num['Cal Newport'] # Gives the number of books\n",
    "\n",
    "type(book_num['Cal Newport']) # Cal Newport's book number is int\n",
    "\n",
    "book_num.keys()\n",
    "\n",
    "book_num.values\n",
    "\n",
    "def func():\n",
    "    book_num = {\"Stephen King\":45, \"Cal Newport\":6, \"Robert Kiyosaki\":3}\n",
    "    return book_num\n",
    "\n",
    "dic = func()\n",
    "\n",
    "dic['Cal Newport']"
   ]
  },
  {
   "cell_type": "code",
   "execution_count": 44,
   "metadata": {},
   "outputs": [
    {
     "name": "stdout",
     "output_type": "stream",
     "text": [
      "yes\n"
     ]
    }
   ],
   "source": [
    "book_num = {\"Stephen King\":45, \"Cal Newport\":6, \"Robert Kiyosaki\":3}\n",
    "\n",
    "keys= book_num.keys() \n",
    "\n",
    "print('yes') if 'Stephen King' else print('no')"
   ]
  },
  {
   "cell_type": "code",
   "execution_count": null,
   "metadata": {},
   "outputs": [],
   "source": []
  }
 ],
 "metadata": {
  "kernelspec": {
   "display_name": "torch",
   "language": "python",
   "name": "python3"
  },
  "language_info": {
   "codemirror_mode": {
    "name": "ipython",
    "version": 3
   },
   "file_extension": ".py",
   "mimetype": "text/x-python",
   "name": "python",
   "nbconvert_exporter": "python",
   "pygments_lexer": "ipython3",
   "version": "3.9.16"
  },
  "orig_nbformat": 4,
  "vscode": {
   "interpreter": {
    "hash": "7322b8951689c94edeea259244d76b7d10f350f9e2d8d5b0d3c716ed5366f491"
   }
  }
 },
 "nbformat": 4,
 "nbformat_minor": 2
}
