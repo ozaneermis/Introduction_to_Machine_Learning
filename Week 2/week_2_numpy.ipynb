{
 "cells": [
  {
   "cell_type": "code",
   "execution_count": 116,
   "metadata": {},
   "outputs": [],
   "source": [
    "import numpy as np"
   ]
  },
  {
   "cell_type": "code",
   "execution_count": 117,
   "metadata": {},
   "outputs": [
    {
     "data": {
      "text/plain": [
       "array([1, 2, 3])"
      ]
     },
     "execution_count": 117,
     "metadata": {},
     "output_type": "execute_result"
    }
   ],
   "source": [
    "array = np.array([1,2,3])\n",
    "array"
   ]
  },
  {
   "cell_type": "code",
   "execution_count": 118,
   "metadata": {},
   "outputs": [
    {
     "data": {
      "text/plain": [
       "(16,)"
      ]
     },
     "execution_count": 118,
     "metadata": {},
     "output_type": "execute_result"
    }
   ],
   "source": [
    "array_2 = np.array([1,2,3,4,5,6,7,8,9,10,11,12,13,14,15,16])\n",
    "\n",
    "array_2.shape"
   ]
  },
  {
   "cell_type": "code",
   "execution_count": 119,
   "metadata": {},
   "outputs": [
    {
     "data": {
      "text/plain": [
       "array([[ 1,  2,  3,  4],\n",
       "       [ 5,  6,  7,  8],\n",
       "       [ 9, 10, 11, 12],\n",
       "       [13, 14, 15, 16]])"
      ]
     },
     "execution_count": 119,
     "metadata": {},
     "output_type": "execute_result"
    }
   ],
   "source": [
    "#The vector became a arr with 4 rows 4 columns\n",
    "arr = array_2.reshape(4,4)\n",
    "arr"
   ]
  },
  {
   "cell_type": "code",
   "execution_count": 120,
   "metadata": {},
   "outputs": [
    {
     "name": "stdout",
     "output_type": "stream",
     "text": [
      "Shape: (4, 4)\n",
      "Dimension: 2\n",
      "Data Type: int64\n",
      "Size: 16\n",
      "Type: <class 'numpy.ndarray'>\n"
     ]
    }
   ],
   "source": [
    "print('Shape:',arr.shape)\n",
    "print('Dimension:', arr.ndim)\n",
    "print('Data Type:', arr.dtype)\n",
    "print('Size:', arr.size)\n",
    "print('Type:', type(arr))"
   ]
  },
  {
   "cell_type": "code",
   "execution_count": 121,
   "metadata": {},
   "outputs": [
    {
     "name": "stdout",
     "output_type": "stream",
     "text": [
      "Data Type int32\n"
     ]
    }
   ],
   "source": [
    "#Change the data type into int32 \n",
    "matrix = arr.astype(np.int32)\n",
    "print('Data Type', matrix.dtype)"
   ]
  },
  {
   "cell_type": "code",
   "execution_count": 122,
   "metadata": {},
   "outputs": [
    {
     "data": {
      "text/plain": [
       "array([[0., 0., 0., 0.],\n",
       "       [0., 0., 0., 0.],\n",
       "       [0., 0., 0., 0.]])"
      ]
     },
     "execution_count": 122,
     "metadata": {},
     "output_type": "execute_result"
    }
   ],
   "source": [
    "#Creates a array full of 0s. It has 3 rows and 4 columns. \n",
    "#This matrix allocated in memory.\n",
    "#Functions like append make memory slow.\n",
    "zero_arr= np.zeros((3,4))\n",
    "zero_arr"
   ]
  },
  {
   "cell_type": "code",
   "execution_count": 123,
   "metadata": {},
   "outputs": [
    {
     "data": {
      "text/plain": [
       "array([[5., 0., 0., 0.],\n",
       "       [0., 0., 0., 0.],\n",
       "       [0., 0., 0., 0.]])"
      ]
     },
     "execution_count": 123,
     "metadata": {},
     "output_type": "execute_result"
    }
   ],
   "source": [
    "zero_arr[0][0]=5\n",
    "zero_arr"
   ]
  },
  {
   "cell_type": "code",
   "execution_count": 124,
   "metadata": {},
   "outputs": [
    {
     "data": {
      "text/plain": [
       "array([[1., 1., 1., 1.],\n",
       "       [1., 1., 1., 1.],\n",
       "       [1., 1., 1., 1.]])"
      ]
     },
     "execution_count": 124,
     "metadata": {},
     "output_type": "execute_result"
    }
   ],
   "source": [
    "#Creates a array full of 1s. It has 3 rows and 4 columns. \n",
    "np.ones((3,4))"
   ]
  },
  {
   "cell_type": "code",
   "execution_count": 125,
   "metadata": {},
   "outputs": [
    {
     "data": {
      "text/plain": [
       "array([[ 0.        ,  0.52631579,  1.05263158,  1.57894737,  2.10526316],\n",
       "       [ 2.63157895,  3.15789474,  3.68421053,  4.21052632,  4.73684211],\n",
       "       [ 5.26315789,  5.78947368,  6.31578947,  6.84210526,  7.36842105],\n",
       "       [ 7.89473684,  8.42105263,  8.94736842,  9.47368421, 10.        ]])"
      ]
     },
     "execution_count": 125,
     "metadata": {},
     "output_type": "execute_result"
    }
   ],
   "source": [
    "#Create a empty array\n",
    "np.empty((4,5))"
   ]
  },
  {
   "cell_type": "code",
   "execution_count": 126,
   "metadata": {},
   "outputs": [
    {
     "data": {
      "text/plain": [
       "array([ 0, 10, 20, 30, 40, 50, 60, 70, 80, 90])"
      ]
     },
     "execution_count": 126,
     "metadata": {},
     "output_type": "execute_result"
    }
   ],
   "source": [
    "#Prints numbers between 0 and 100 in increments of 10\n",
    "np.arange(0,100,10)"
   ]
  },
  {
   "cell_type": "code",
   "execution_count": 127,
   "metadata": {},
   "outputs": [
    {
     "data": {
      "text/plain": [
       "array([ 0.,  2.,  4.,  6.,  8., 10., 12., 14., 16., 18., 20.])"
      ]
     },
     "execution_count": 127,
     "metadata": {},
     "output_type": "execute_result"
    }
   ],
   "source": [
    "#Prints numbers between 0 and 20 in increments of 2  (20/10)=2 -- > increase amount\n",
    "np.linspace(0,20,11)"
   ]
  },
  {
   "cell_type": "code",
   "execution_count": 128,
   "metadata": {},
   "outputs": [],
   "source": [
    "a= np.array([1,2,3])\n",
    "b= np.array([4,5,6])"
   ]
  },
  {
   "cell_type": "code",
   "execution_count": 129,
   "metadata": {},
   "outputs": [
    {
     "name": "stdout",
     "output_type": "stream",
     "text": [
      "[5 7 9]\n",
      "[-3 -3 -3]\n",
      "[ 4 10 18]\n"
     ]
    }
   ],
   "source": [
    "print(a+b) #[5 7 9]\n",
    "print(a-b) #[-3 -3 -3]\n",
    "print(a*b) #[4 10 8]"
   ]
  },
  {
   "cell_type": "code",
   "execution_count": 130,
   "metadata": {},
   "outputs": [
    {
     "name": "stdout",
     "output_type": "stream",
     "text": [
      "[1, 2, 3, 4]\n",
      "[5 6 7 8]\n"
     ]
    }
   ],
   "source": [
    "liste = [1,2,3,4]\n",
    "array = np.array([5,6,7,8])\n",
    "print(liste)\n",
    "print(array)"
   ]
  },
  {
   "cell_type": "code",
   "execution_count": 131,
   "metadata": {},
   "outputs": [
    {
     "data": {
      "text/plain": [
       "array([1, 2, 3, 4])"
      ]
     },
     "execution_count": 131,
     "metadata": {},
     "output_type": "execute_result"
    }
   ],
   "source": [
    "array = np.array(liste)\n",
    "array"
   ]
  },
  {
   "cell_type": "code",
   "execution_count": 132,
   "metadata": {},
   "outputs": [
    {
     "data": {
      "text/plain": [
       "array([1, 2, 3])"
      ]
     },
     "execution_count": 132,
     "metadata": {},
     "output_type": "execute_result"
    }
   ],
   "source": [
    "a = np.array([1,2,3])\n",
    "a"
   ]
  },
  {
   "cell_type": "code",
   "execution_count": 133,
   "metadata": {},
   "outputs": [
    {
     "name": "stdout",
     "output_type": "stream",
     "text": [
      "[5 2 3] [5 2 3] [5 2 3]\n"
     ]
    }
   ],
   "source": [
    "#Changes index 0 of arrays a,b,c\n",
    "#np.array is stored in memory as a space, not as a value..\n",
    "#Since the same space is allocated in memory for \n",
    "#a,b,c, changing one of them will change all of them.\n",
    "\n",
    "b=a\n",
    "\n",
    "c=a\n",
    "\n",
    "b[0]=5 \n",
    "print(a,b,c)"
   ]
  },
  {
   "cell_type": "code",
   "execution_count": 134,
   "metadata": {},
   "outputs": [],
   "source": [
    "#Copy function allocate new space from memory\n",
    "#This allows us to change any index and keep the other one\n",
    "d = a.copy()\n"
   ]
  },
  {
   "cell_type": "code",
   "execution_count": 135,
   "metadata": {},
   "outputs": [],
   "source": [
    "a= np.array([1,2,3,4,5,6,7])"
   ]
  },
  {
   "cell_type": "code",
   "execution_count": 136,
   "metadata": {},
   "outputs": [
    {
     "data": {
      "text/plain": [
       "array([1, 2, 3, 4])"
      ]
     },
     "execution_count": 136,
     "metadata": {},
     "output_type": "execute_result"
    }
   ],
   "source": [
    "a[0:4]"
   ]
  },
  {
   "cell_type": "code",
   "execution_count": 137,
   "metadata": {},
   "outputs": [
    {
     "data": {
      "text/plain": [
       "array([7, 6, 5, 4, 3, 2, 1])"
      ]
     },
     "execution_count": 137,
     "metadata": {},
     "output_type": "execute_result"
    }
   ],
   "source": [
    "#Reverse the array\n",
    "reverse_array = a[::-1]\n",
    "reverse_array"
   ]
  },
  {
   "cell_type": "code",
   "execution_count": 138,
   "metadata": {},
   "outputs": [
    {
     "data": {
      "text/plain": [
       "array([[ 1,  2,  3,  4,  5],\n",
       "       [ 6,  7,  8,  9, 10]])"
      ]
     },
     "execution_count": 138,
     "metadata": {},
     "output_type": "execute_result"
    }
   ],
   "source": [
    "b = np.array([[1,2,3,4,5],[6,7,8,9,10]]) \n",
    "b"
   ]
  },
  {
   "attachments": {},
   "cell_type": "markdown",
   "metadata": {},
   "source": [
    "# **Important**"
   ]
  },
  {
   "cell_type": "code",
   "execution_count": 139,
   "metadata": {},
   "outputs": [
    {
     "name": "stdout",
     "output_type": "stream",
     "text": [
      "7\n",
      "[2 7]\n",
      "[ 6  7  8  9 10]\n",
      "[7 8 9]\n",
      "[ 6  7  8  9 10]\n",
      "[ 5 10]\n"
     ]
    }
   ],
   "source": [
    "# Row 1 gives the value in column 1, which is 7.\n",
    "print(b[1,1]) #1.satır 1.sütundaki değer olan 7'yi verir.\n",
    "\n",
    "#Returns all rows and column 2. [2 7]\n",
    "print(b[:,1]) #satırların hepsini ve 2. sütunu verir. [2 7]\n",
    "\n",
    "#Returns all elements in row 2. [ 6 7 8 9 10]\n",
    "print(b[1,:]) #2.satırdaki elemanların tamamını verir. [ 6  7  8  9 10]\n",
    "\n",
    "#Row 2 gives columns 2, 3, 4. [7 8 9]\n",
    "print(b[1,1:4]) #2.satır 2. 3. 4. sütunları verir. [7 8 9]\n",
    "\n",
    "#Takes the last row and all columns. [ 6 7 8 9 10]\n",
    "print(b[-1,:]) #son satır ve tüm sütunları alır. [ 6  7  8  9 10]\n",
    "\n",
    "#Takes the last column and all rows. [ 5 10]\n",
    "print(b[:,-1]) #son sütun ve tüm satırlari alır. [ 5 10]"
   ]
  },
  {
   "cell_type": "code",
   "execution_count": 140,
   "metadata": {},
   "outputs": [
    {
     "name": "stdout",
     "output_type": "stream",
     "text": [
      "Dimension -> 2 \n",
      " [[1 2 3]\n",
      " [4 5 6]\n",
      " [7 8 9]]\n"
     ]
    }
   ],
   "source": [
    "#Creates 3x3 matrix\n",
    "array = np.array([[1,2,3],[4,5,6],[7,8,9]]) \n",
    "print('Dimension ->',array.ndim,'\\n' ,array)"
   ]
  },
  {
   "cell_type": "code",
   "execution_count": 143,
   "metadata": {},
   "outputs": [
    {
     "name": "stdout",
     "output_type": "stream",
     "text": [
      "Dimension -> 1 \n",
      " [1 2 3 4 5 6 7 8 9]\n"
     ]
    }
   ],
   "source": [
    "#With ravel function we can decreace dimensions into 1-D\n",
    "a = array.ravel()\n",
    "print('Dimension ->',a.ndim,'\\n' ,a)"
   ]
  },
  {
   "cell_type": "code",
   "execution_count": 144,
   "metadata": {},
   "outputs": [
    {
     "data": {
      "text/plain": [
       "array([[1, 4, 7],\n",
       "       [2, 5, 8],\n",
       "       [3, 6, 9]])"
      ]
     },
     "execution_count": 144,
     "metadata": {},
     "output_type": "execute_result"
    }
   ],
   "source": [
    "#Gets the transpose of the array\n",
    "array.T"
   ]
  },
  {
   "cell_type": "code",
   "execution_count": 145,
   "metadata": {},
   "outputs": [
    {
     "data": {
      "text/plain": [
       "array([[1, 2],\n",
       "       [3, 4],\n",
       "       [5, 6]])"
      ]
     },
     "execution_count": 145,
     "metadata": {},
     "output_type": "execute_result"
    }
   ],
   "source": [
    "array2 = np.array([[1,2],[3,4],[5,6]])\n",
    "array2"
   ]
  },
  {
   "cell_type": "code",
   "execution_count": 147,
   "metadata": {},
   "outputs": [
    {
     "data": {
      "text/plain": [
       "array([[1, 2, 3],\n",
       "       [4, 5, 6]])"
      ]
     },
     "execution_count": 147,
     "metadata": {},
     "output_type": "execute_result"
    }
   ],
   "source": [
    "#Size changes made with resize are permanent.\n",
    "#They are saved in the same array\n",
    "#Changes made with reshape are not permanent. It must be saved in another variable\n",
    "array2.resize((2,3))\n",
    "array2"
   ]
  },
  {
   "cell_type": "code",
   "execution_count": null,
   "metadata": {},
   "outputs": [],
   "source": []
  }
 ],
 "metadata": {
  "kernelspec": {
   "display_name": "Python 3.9 (pytorch)",
   "language": "python",
   "name": "pytorch"
  },
  "language_info": {
   "codemirror_mode": {
    "name": "ipython",
    "version": 3
   },
   "file_extension": ".py",
   "mimetype": "text/x-python",
   "name": "python",
   "nbconvert_exporter": "python",
   "pygments_lexer": "ipython3",
   "version": "3.9.16"
  },
  "orig_nbformat": 4
 },
 "nbformat": 4,
 "nbformat_minor": 2
}
